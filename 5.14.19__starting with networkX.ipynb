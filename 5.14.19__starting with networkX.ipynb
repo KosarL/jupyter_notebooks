{
 "cells": [
  {
   "cell_type": "code",
   "execution_count": 77,
   "metadata": {},
   "outputs": [
    {
     "name": "stdout",
     "output_type": "stream",
     "text": [
      "Populating the interactive namespace from numpy and matplotlib\n"
     ]
    }
   ],
   "source": [
    "import networkx as nx\n",
    "import pandas as pd\n",
    "import plotly.plotly as py\n",
    "import plotly.graph_objs as go\n",
    "%pylab inline\n",
    "\n",
    "import matplotlib.pyplot as plt\n",
    "\n",
    "%matplotlib inline "
   ]
  },
  {
   "cell_type": "code",
   "execution_count": 78,
   "metadata": {
    "scrolled": false
   },
   "outputs": [],
   "source": [
    "# creating a graph with netwrokX\n",
    "# graphs start with capital letters \n",
    "\n",
    "G = nx.Graph()"
   ]
  },
  {
   "cell_type": "code",
   "execution_count": 79,
   "metadata": {},
   "outputs": [
    {
     "data": {
      "text/plain": [
       "NodeView((1, 2, 3, 4))"
      ]
     },
     "execution_count": 79,
     "metadata": {},
     "output_type": "execute_result"
    }
   ],
   "source": [
    "# passign nodes \n",
    "# nodes can be added as a list \n",
    "# when adding a list of nodes, don't forget the FROM and NODES instead of NODE \n",
    "\n",
    "G.add_node(1)\n",
    "G.add_nodes_from([2,3])\n",
    "G.add_node(4)\n",
    "\n",
    "G.nodes()"
   ]
  },
  {
   "cell_type": "code",
   "execution_count": 80,
   "metadata": {},
   "outputs": [],
   "source": [
    "# add edges \n",
    "# to add edges, just write EDGE even if you have multiple numbers \n",
    "\n",
    "G.add_edge(1,2)\n",
    "G.add_edge(2,3)"
   ]
  },
  {
   "cell_type": "code",
   "execution_count": 81,
   "metadata": {},
   "outputs": [
    {
     "name": "stdout",
     "output_type": "stream",
     "text": [
      "Name: \n",
      "Type: Graph\n",
      "Number of nodes: 4\n",
      "Number of edges: 2\n",
      "Average degree:   1.0000\n"
     ]
    }
   ],
   "source": [
    "# get graph info\n",
    "\n",
    "print(nx.info(G))"
   ]
  },
  {
   "cell_type": "code",
   "execution_count": 82,
   "metadata": {},
   "outputs": [
    {
     "data": {
      "image/png": "[encoded data removed]",
      "text/plain": [
       "<Figure size 432x288 with 1 Axes>"
      ]
     },
     "metadata": {},
     "output_type": "display_data"
    }
   ],
   "source": [
    "nx.draw(G, with_labels = True)"
   ]
  },
  {
   "cell_type": "code",
   "execution_count": 84,
   "metadata": {},
   "outputs": [
    {
     "name": "stdout",
     "output_type": "stream",
     "text": [
      "Name: \n",
      "Type: Graph\n",
      "Number of nodes: 7\n",
      "Number of edges: 2\n",
      "Average degree:   0.5714\n",
      "{5: 'blue', 6: 'red', 7: 'purple'}\n",
      "{(5, 6): 'best friends'}\n",
      "{(5, 6): 10}\n"
     ]
    },
    {
     "data": {
      "text/plain": [
       "{(5, 6): Text(-0.11964858058801521, -0.5, 'best friends (10)')}"
      ]
     },
     "execution_count": 84,
     "metadata": {},
     "output_type": "execute_result"
    },
    {
     "data": {
      "image/png": "[encoded data removed]",
      "text/plain": [
       "<Figure size 432x288 with 1 Axes>"
      ]
     },
     "metadata": {},
     "output_type": "display_data"
    }
   ],
   "source": [
    "# add attributes at creation \n",
    "# nodes \n",
    "G.add_node(5, favorite_color = \"blue\")\n",
    "\n",
    "# add tuples \n",
    "G.add_nodes_from([(6, {\"favorite_color\" : \"red\"}), \n",
    "                 (7, {\"favorite_color\" : \"purple\"})])\n",
    "print(nx.info(G))\n",
    "\n",
    "G2 = nx.Graph()\n",
    "G2.add_node(5, favorite_color='blue')\n",
    "# G2.add_node(6)\n",
    "# G2.graph[6] = \"red\"\n",
    "G2.add_nodes_from([(6, {'favorite_color' : 'red'}),\n",
    "                  (7, {'favorite_color' :'purple'})])\n",
    "print(nx.get_node_attributes(G2,\"favorite_color\"))\n",
    "# edges\n",
    "G2.add_edge(5, 6, weight=100, relationship='best friends', friendship_level=10)\n",
    "print(nx.get_edge_attributes(G2,\"relationship\"))\n",
    "print(nx.get_edge_attributes(G2,\"friendship_level\"))\n",
    "\n",
    "\n",
    "# edges \n",
    "# add edge takes 3 positional arguments \n",
    "# G.add_edge(5, 6, weight=0.9)\n",
    "position = nx.spring_layout(G2)\n",
    "nx.draw(G2, position, with_labels = True)\n",
    "labels = nx.get_edge_attributes(G2, 'relationship')\n",
    "labels2 =  nx.get_edge_attributes(G2,'friendship_level')\n",
    "\n",
    "new_labels = {}\n",
    "for key in labels.keys():\n",
    "    new_labels[key] = \"{} ({})\".format(labels[key], labels2[key])\n",
    "new_labels\n",
    "\n",
    "# print(position, labels)\n",
    "nx.draw_networkx_edge_labels(G2, position, edge_labels=new_labels)"
   ]
  },
  {
   "cell_type": "code",
   "execution_count": null,
   "metadata": {},
   "outputs": [],
   "source": []
  },
  {
   "cell_type": "code",
   "execution_count": 8,
   "metadata": {},
   "outputs": [
    {
     "name": "stdout",
     "output_type": "stream",
     "text": [
      "Node 5 attributes: {'favorite_color': 'blue'}\n"
     ]
    },
    {
     "ename": "AttributeError",
     "evalue": "'Graph' object has no attribute 'edge'",
     "output_type": "error",
     "traceback": [
      "\u001b[1;31m---------------------------------------------------------------------------\u001b[0m",
      "\u001b[1;31mAttributeError\u001b[0m                            Traceback (most recent call last)",
      "\u001b[1;32m<ipython-input-8-966fe9950ae8>\u001b[0m in \u001b[0;36m<module>\u001b[1;34m\u001b[0m\n\u001b[0;32m      3\u001b[0m \u001b[1;33m\u001b[0m\u001b[0m\n\u001b[0;32m      4\u001b[0m \u001b[1;31m# accessing edge attributes\u001b[0m\u001b[1;33m\u001b[0m\u001b[1;33m\u001b[0m\u001b[1;33m\u001b[0m\u001b[0m\n\u001b[1;32m----> 5\u001b[1;33m \u001b[0mprint\u001b[0m\u001b[1;33m(\u001b[0m\u001b[1;34m\"Edge 5-6 attribute:\"\u001b[0m\u001b[1;33m,\u001b[0m \u001b[0mG\u001b[0m\u001b[1;33m.\u001b[0m\u001b[0medge\u001b[0m\u001b[1;33m[\u001b[0m\u001b[1;36m5\u001b[0m\u001b[1;33m]\u001b[0m\u001b[1;33m[\u001b[0m\u001b[1;36m6\u001b[0m\u001b[1;33m]\u001b[0m\u001b[1;33m)\u001b[0m\u001b[1;33m\u001b[0m\u001b[1;33m\u001b[0m\u001b[0m\n\u001b[0m",
      "\u001b[1;31mAttributeError\u001b[0m: 'Graph' object has no attribute 'edge'"
     ]
    }
   ],
   "source": [
    "# accessing node attributes \n",
    "print(\"Node 5 attributes:\", G.node[5])\n",
    "\n",
    "# accessing edge attributes \n",
    "print(\"Edge 5-6 attribute:\", G.edge[5][6])"
   ]
  },
  {
   "cell_type": "code",
   "execution_count": null,
   "metadata": {},
   "outputs": [],
   "source": []
  },
  {
   "cell_type": "code",
   "execution_count": null,
   "metadata": {},
   "outputs": [],
   "source": []
  },
  {
   "cell_type": "code",
   "execution_count": null,
   "metadata": {},
   "outputs": [],
   "source": []
  },
  {
   "cell_type": "code",
   "execution_count": 48,
   "metadata": {},
   "outputs": [
    {
     "data": {
      "text/html": [
       "<div>\n",
       "<style scoped>\n",
       "    .dataframe tbody tr th:only-of-type {\n",
       "        vertical-align: middle;\n",
       "    }\n",
       "\n",
       "    .dataframe tbody tr th {\n",
       "        vertical-align: top;\n",
       "    }\n",
       "\n",
       "    .dataframe thead th {\n",
       "        text-align: right;\n",
       "    }\n",
       "</style>\n",
       "<table border=\"1\" class=\"dataframe\">\n",
       "  <thead>\n",
       "    <tr style=\"text-align: right;\">\n",
       "      <th></th>\n",
       "      <th>Abbreviation</th>\n",
       "      <th>KEGG Identifier</th>\n",
       "      <th>Name</th>\n",
       "      <th>Designation(R/H/C)</th>\n",
       "      <th>Organism</th>\n",
       "      <th>GPR</th>\n",
       "      <th>Genes</th>\n",
       "      <th>Subsystem</th>\n",
       "      <th>Reactions with MetNames</th>\n",
       "      <th>Reaction</th>\n",
       "      <th>...</th>\n",
       "      <th>Y-Coordinate8</th>\n",
       "      <th>Unique Product 2</th>\n",
       "      <th>X-Coordinate9</th>\n",
       "      <th>Y-Coordinate9</th>\n",
       "      <th>Unique Product 3</th>\n",
       "      <th>X-Coordinate10</th>\n",
       "      <th>Y-Coordinate10</th>\n",
       "      <th>Unique Product 4</th>\n",
       "      <th>X-Coordinate11</th>\n",
       "      <th>Y-Coordinate11</th>\n",
       "    </tr>\n",
       "  </thead>\n",
       "  <tbody>\n",
       "    <tr>\n",
       "      <th>0</th>\n",
       "      <td>ATPM</td>\n",
       "      <td>unlinked,observed rxn</td>\n",
       "      <td>ATPM</td>\n",
       "      <td>R</td>\n",
       "      <td>pao1</td>\n",
       "      <td>NaN</td>\n",
       "      <td>NaN</td>\n",
       "      <td>None</td>\n",
       "      <td>H2O + ATP  -&gt; H+ + ADP + Phosphate</td>\n",
       "      <td>cpd00001[c] + cpd00002[c]  -&gt; cpd00067[c] + cp...</td>\n",
       "      <td>...</td>\n",
       "      <td>22.9387</td>\n",
       "      <td>NaN</td>\n",
       "      <td>NaN</td>\n",
       "      <td>NaN</td>\n",
       "      <td>NaN</td>\n",
       "      <td>NaN</td>\n",
       "      <td>NaN</td>\n",
       "      <td>NaN</td>\n",
       "      <td>NaN</td>\n",
       "      <td>NaN</td>\n",
       "    </tr>\n",
       "    <tr>\n",
       "      <th>1</th>\n",
       "      <td>EX_cJB00034(e)</td>\n",
       "      <td>exchange rxn</td>\n",
       "      <td>EX L-Sorbose</td>\n",
       "      <td>R</td>\n",
       "      <td>pao1</td>\n",
       "      <td>NaN</td>\n",
       "      <td></td>\n",
       "      <td>Exchange</td>\n",
       "      <td>L-Sorbose  &lt;=&gt;</td>\n",
       "      <td>cJB00034[e]  &lt;=&gt;</td>\n",
       "      <td>...</td>\n",
       "      <td>1.5000</td>\n",
       "      <td>NaN</td>\n",
       "      <td>NaN</td>\n",
       "      <td>NaN</td>\n",
       "      <td>NaN</td>\n",
       "      <td>NaN</td>\n",
       "      <td>NaN</td>\n",
       "      <td>NaN</td>\n",
       "      <td>NaN</td>\n",
       "      <td>NaN</td>\n",
       "    </tr>\n",
       "    <tr>\n",
       "      <th>2</th>\n",
       "      <td>EX_cpd00001(e)</td>\n",
       "      <td>exchange rxn</td>\n",
       "      <td>EX H2O e</td>\n",
       "      <td>R</td>\n",
       "      <td>pao1</td>\n",
       "      <td>NaN</td>\n",
       "      <td></td>\n",
       "      <td>Exchange</td>\n",
       "      <td>H2O  &lt;=&gt;</td>\n",
       "      <td>cpd00001[e]  &lt;=&gt;</td>\n",
       "      <td>...</td>\n",
       "      <td>35.0000</td>\n",
       "      <td>NaN</td>\n",
       "      <td>NaN</td>\n",
       "      <td>NaN</td>\n",
       "      <td>NaN</td>\n",
       "      <td>NaN</td>\n",
       "      <td>NaN</td>\n",
       "      <td>NaN</td>\n",
       "      <td>NaN</td>\n",
       "      <td>NaN</td>\n",
       "    </tr>\n",
       "    <tr>\n",
       "      <th>3</th>\n",
       "      <td>EX_cpd00007(e)</td>\n",
       "      <td>exchange rxn</td>\n",
       "      <td>EX oxygen e</td>\n",
       "      <td>R</td>\n",
       "      <td>pao1</td>\n",
       "      <td>NaN</td>\n",
       "      <td></td>\n",
       "      <td>Exchange</td>\n",
       "      <td>oxygen  &lt;=&gt;</td>\n",
       "      <td>cpd00007[e]  &lt;=&gt;</td>\n",
       "      <td>...</td>\n",
       "      <td>35.0000</td>\n",
       "      <td>NaN</td>\n",
       "      <td>NaN</td>\n",
       "      <td>NaN</td>\n",
       "      <td>NaN</td>\n",
       "      <td>NaN</td>\n",
       "      <td>NaN</td>\n",
       "      <td>NaN</td>\n",
       "      <td>NaN</td>\n",
       "      <td>NaN</td>\n",
       "    </tr>\n",
       "    <tr>\n",
       "      <th>4</th>\n",
       "      <td>EX_cpd00009(e)</td>\n",
       "      <td>exchange rxn</td>\n",
       "      <td>EX Phosphate e</td>\n",
       "      <td>R</td>\n",
       "      <td>pao1</td>\n",
       "      <td>NaN</td>\n",
       "      <td></td>\n",
       "      <td>Exchange</td>\n",
       "      <td>Phosphate  &lt;=&gt;</td>\n",
       "      <td>cpd00009[e]  &lt;=&gt;</td>\n",
       "      <td>...</td>\n",
       "      <td>35.0000</td>\n",
       "      <td>NaN</td>\n",
       "      <td>NaN</td>\n",
       "      <td>NaN</td>\n",
       "      <td>NaN</td>\n",
       "      <td>NaN</td>\n",
       "      <td>NaN</td>\n",
       "      <td>NaN</td>\n",
       "      <td>NaN</td>\n",
       "      <td>NaN</td>\n",
       "    </tr>\n",
       "  </tbody>\n",
       "</table>\n",
       "<p>5 rows × 45 columns</p>\n",
       "</div>"
      ],
      "text/plain": [
       "     Abbreviation        KEGG Identifier            Name Designation(R/H/C)  \\\n",
       "0            ATPM  unlinked,observed rxn            ATPM                  R   \n",
       "1  EX_cJB00034(e)           exchange rxn    EX L-Sorbose                  R   \n",
       "2  EX_cpd00001(e)           exchange rxn        EX H2O e                  R   \n",
       "3  EX_cpd00007(e)           exchange rxn     EX oxygen e                  R   \n",
       "4  EX_cpd00009(e)           exchange rxn  EX Phosphate e                  R   \n",
       "\n",
       "  Organism  GPR Genes Subsystem             Reactions with MetNames  \\\n",
       "0     pao1  NaN   NaN      None  H2O + ATP  -> H+ + ADP + Phosphate   \n",
       "1     pao1  NaN        Exchange                     L-Sorbose  <=>    \n",
       "2     pao1  NaN        Exchange                           H2O  <=>    \n",
       "3     pao1  NaN        Exchange                        oxygen  <=>    \n",
       "4     pao1  NaN        Exchange                     Phosphate  <=>    \n",
       "\n",
       "                                            Reaction  ...  Y-Coordinate8  \\\n",
       "0  cpd00001[c] + cpd00002[c]  -> cpd00067[c] + cp...  ...        22.9387   \n",
       "1                                  cJB00034[e]  <=>   ...         1.5000   \n",
       "2                                  cpd00001[e]  <=>   ...        35.0000   \n",
       "3                                  cpd00007[e]  <=>   ...        35.0000   \n",
       "4                                  cpd00009[e]  <=>   ...        35.0000   \n",
       "\n",
       "   Unique Product 2 X-Coordinate9  Y-Coordinate9  Unique Product 3  \\\n",
       "0               NaN           NaN            NaN               NaN   \n",
       "1               NaN           NaN            NaN               NaN   \n",
       "2               NaN           NaN            NaN               NaN   \n",
       "3               NaN           NaN            NaN               NaN   \n",
       "4               NaN           NaN            NaN               NaN   \n",
       "\n",
       "  X-Coordinate10  Y-Coordinate10  Unique Product 4 X-Coordinate11  \\\n",
       "0            NaN             NaN               NaN            NaN   \n",
       "1            NaN             NaN               NaN            NaN   \n",
       "2            NaN             NaN               NaN            NaN   \n",
       "3            NaN             NaN               NaN            NaN   \n",
       "4            NaN             NaN               NaN            NaN   \n",
       "\n",
       "   Y-Coordinate11  \n",
       "0             NaN  \n",
       "1             NaN  \n",
       "2             NaN  \n",
       "3             NaN  \n",
       "4             NaN  \n",
       "\n",
       "[5 rows x 45 columns]"
      ]
     },
     "execution_count": 48,
     "metadata": {},
     "output_type": "execute_result"
    }
   ],
   "source": [
    "df = pd.read_excel(\"Copy of Complete_Mapped_PAO1_MetNetwork_FINAL.xlsx\")\n",
    "df.head(5)"
   ]
  },
  {
   "cell_type": "code",
   "execution_count": 63,
   "metadata": {},
   "outputs": [
    {
     "name": "stdout",
     "output_type": "stream",
     "text": [
      "{('ATPM', 'EX Pyruvate'): 50.0162, ('EX H2O e', 'EX CO2 e'): 34.5755}\n"
     ]
    },
    {
     "data": {
      "image/png": "[encoded data removed]",
      "text/plain": [
       "<Figure size 432x288 with 1 Axes>"
      ]
     },
     "metadata": {},
     "output_type": "display_data"
    }
   ],
   "source": [
    "node_list = df['Name'].head(10)\n",
    "weight_list = df['X-Coordinate'].head(10)\n",
    "edge_list = [('EX Pyruvate', 'ATPM',weight_list[0]),('EX CO2 e', 'EX H2O e',weight_list[1])]\n",
    "\n",
    "# node_list\n",
    "G3 = nx.Graph()\n",
    "G3.add_nodes_from(node_list)\n",
    "G3.add_weighted_edges_from(edge_list)\n",
    "# \n",
    "print(nx.get_edge_attributes(G3,\"weight\"))\n",
    "\n",
    "nx.draw(G3, with_labels = True)"
   ]
  },
  {
   "cell_type": "code",
   "execution_count": null,
   "metadata": {},
   "outputs": [],
   "source": [
    "GA = nx.from_pandas_dataframe(ga_edges, source = \"from\", target = \"to\")"
   ]
  }
 ],
 "metadata": {
  "kernelspec": {
   "display_name": "Python 3",
   "language": "python",
   "name": "python3"
  },
  "language_info": {
   "codemirror_mode": {
    "name": "ipython",
    "version": 3
   },
   "file_extension": ".py",
   "mimetype": "text/x-python",
   "name": "python",
   "nbconvert_exporter": "python",
   "pygments_lexer": "ipython3",
   "version": "3.7.3"
  }
 },
 "nbformat": 4,
 "nbformat_minor": 2
}
