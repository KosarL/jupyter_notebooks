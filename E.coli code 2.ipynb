{
 "cells": [
  {
   "cell_type": "code",
   "execution_count": 1,
   "metadata": {},
   "outputs": [
    {
     "name": "stdout",
     "output_type": "stream",
     "text": [
      "Populating the interactive namespace from numpy and matplotlib\n"
     ]
    }
   ],
   "source": [
    "import networkx as nx\n",
    "import plotly.plotly as py\n",
    "import pandas as pd\n",
    "\n",
    "%pylab inline \n",
    "%matplotlib inline"
   ]
  },
  {
   "cell_type": "code",
   "execution_count": 5,
   "metadata": {},
   "outputs": [
    {
     "name": "stdout",
     "output_type": "stream",
     "text": [
      "Enter the file name: E.coli rpip flux map coordinates.csv\n",
      "IMPORTANT: your file has to be in the same folder as this program\n",
      "The file must have column 'compound' for the nodes\n"
     ]
    },
    {
     "ename": "NameError",
     "evalue": "name 'node_list' is not defined",
     "output_type": "error",
     "traceback": [
      "\u001b[1;31m---------------------------------------------------------------------------\u001b[0m",
      "\u001b[1;31mNameError\u001b[0m                                 Traceback (most recent call last)",
      "\u001b[1;32m<ipython-input-5-7a54a9fd0284>\u001b[0m in \u001b[0;36m<module>\u001b[1;34m\u001b[0m\n\u001b[0;32m     30\u001b[0m \u001b[1;33m\u001b[0m\u001b[0m\n\u001b[0;32m     31\u001b[0m \u001b[0mhandle_input\u001b[0m\u001b[1;33m(\u001b[0m\u001b[0mfile_name\u001b[0m\u001b[1;33m)\u001b[0m\u001b[1;33m\u001b[0m\u001b[1;33m\u001b[0m\u001b[0m\n\u001b[1;32m---> 32\u001b[1;33m \u001b[0mnode_plot\u001b[0m\u001b[1;33m(\u001b[0m\u001b[0mnode_list\u001b[0m\u001b[1;33m)\u001b[0m\u001b[1;33m\u001b[0m\u001b[1;33m\u001b[0m\u001b[0m\n\u001b[0m\u001b[0;32m     33\u001b[0m \u001b[1;33m\u001b[0m\u001b[0m\n",
      "\u001b[1;31mNameError\u001b[0m: name 'node_list' is not defined"
     ]
    }
   ],
   "source": [
    "file_name = input(\"Enter the file name: \")\n",
    "\n",
    "def handle_input(file_name):\n",
    "    print(\"IMPORTANT: your file has to be in the same folder as this program\")\n",
    "    print(\"The file must have column 'compound' for the nodes\")\n",
    "    \n",
    "    file_name_1 = file_name.find(\".csv\")\n",
    "    file_name_2 = file_name.find(\".xlsx\")\n",
    "    if file_name_1 > 0:\n",
    "        df = pd.read_csv(file_name)\n",
    "    \n",
    "    elif file_name_2 > 0:\n",
    "        df = pd.read_excel(file_name)\n",
    "        \n",
    "    node_list = df.loc[:,'compound']\n",
    "    weight_list = df.loc[:,'rt']\n",
    "       \n",
    "    return node_list, weight_list, file_name\n",
    "    \n",
    "def node_plot(node_list):\n",
    "        G.add_nodes_from(node_list)\n",
    "        for a, reactant in enumerate(node_list):\n",
    "            reactant = node_list[a]\n",
    "            if (a != len(node_list)-1):\n",
    "                edges = G.add_edge(node_list[a], node_list[a+1], weight = weight_list[a])\n",
    "\n",
    "\n",
    "        return edges\n",
    "    \n",
    "    \n",
    "handle_input(file_name)\n",
    "node_plot(node_list)\n",
    "    "
   ]
  },
  {
   "cell_type": "code",
   "execution_count": null,
   "metadata": {},
   "outputs": [],
   "source": []
  }
 ],
 "metadata": {
  "kernelspec": {
   "display_name": "Python 3",
   "language": "python",
   "name": "python3"
  },
  "language_info": {
   "codemirror_mode": {
    "name": "ipython",
    "version": 3
   },
   "file_extension": ".py",
   "mimetype": "text/x-python",
   "name": "python",
   "nbconvert_exporter": "python",
   "pygments_lexer": "ipython3",
   "version": "3.7.3"
  }
 },
 "nbformat": 4,
 "nbformat_minor": 2
}
