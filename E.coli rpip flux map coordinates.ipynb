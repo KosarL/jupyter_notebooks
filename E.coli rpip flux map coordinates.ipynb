{
 "cells": [
  {
   "cell_type": "code",
   "execution_count": 2,
   "metadata": {},
   "outputs": [
    {
     "name": "stdout",
     "output_type": "stream",
     "text": [
      "Populating the interactive namespace from numpy and matplotlib\n"
     ]
    }
   ],
   "source": [
    "import networkx as nx\n",
    "import plotly.plotly as py\n",
    "import pandas as pd\n",
    "\n",
    "%pylab inline \n",
    "%matplotlib inline"
   ]
  },
  {
   "cell_type": "code",
   "execution_count": 21,
   "metadata": {
    "scrolled": false
   },
   "outputs": [
    {
     "name": "stdout",
     "output_type": "stream",
     "text": [
      "Enter the file name:  E.coli rpip flux map coordinates.csv\n"
     ]
    },
    {
     "ename": "NameError",
     "evalue": "name 'df' is not defined",
     "output_type": "error",
     "traceback": [
      "\u001b[1;31m---------------------------------------------------------------------------\u001b[0m",
      "\u001b[1;31mNameError\u001b[0m                                 Traceback (most recent call last)",
      "\u001b[1;32m<ipython-input-21-cbfb2118d9d1>\u001b[0m in \u001b[0;36m<module>\u001b[1;34m\u001b[0m\n\u001b[0;32m     46\u001b[0m \u001b[1;31m#g.handle_input(file_name)\u001b[0m\u001b[1;33m\u001b[0m\u001b[1;33m\u001b[0m\u001b[1;33m\u001b[0m\u001b[0m\n\u001b[0;32m     47\u001b[0m \u001b[1;31m#g.node_plot()\u001b[0m\u001b[1;33m\u001b[0m\u001b[1;33m\u001b[0m\u001b[1;33m\u001b[0m\u001b[0m\n\u001b[1;32m---> 48\u001b[1;33m \u001b[0mg\u001b[0m\u001b[1;33m.\u001b[0m\u001b[0mcoordinates\u001b[0m\u001b[1;33m(\u001b[0m\u001b[1;33m)\u001b[0m\u001b[1;33m\u001b[0m\u001b[1;33m\u001b[0m\u001b[0m\n\u001b[0m\u001b[0;32m     49\u001b[0m \u001b[1;33m\u001b[0m\u001b[0m\n\u001b[0;32m     50\u001b[0m \u001b[1;31m###### NODE PLOT DOESN'T WORK!!!\u001b[0m\u001b[1;33m\u001b[0m\u001b[1;33m\u001b[0m\u001b[1;33m\u001b[0m\u001b[0m\n",
      "\u001b[1;32m<ipython-input-21-cbfb2118d9d1>\u001b[0m in \u001b[0;36mcoordinates\u001b[1;34m(self)\u001b[0m\n\u001b[0;32m     20\u001b[0m \u001b[1;33m\u001b[0m\u001b[0m\n\u001b[0;32m     21\u001b[0m     \u001b[1;32mdef\u001b[0m \u001b[0mcoordinates\u001b[0m\u001b[1;33m(\u001b[0m\u001b[0mself\u001b[0m\u001b[1;33m)\u001b[0m\u001b[1;33m:\u001b[0m\u001b[1;33m\u001b[0m\u001b[1;33m\u001b[0m\u001b[0m\n\u001b[1;32m---> 22\u001b[1;33m         \u001b[0mx_coord\u001b[0m \u001b[1;33m=\u001b[0m \u001b[0mdf\u001b[0m\u001b[1;33m.\u001b[0m\u001b[0mloc\u001b[0m\u001b[1;33m[\u001b[0m\u001b[1;33m:\u001b[0m\u001b[1;33m,\u001b[0m \u001b[1;34m'X-coord'\u001b[0m\u001b[1;33m]\u001b[0m\u001b[1;33m\u001b[0m\u001b[1;33m\u001b[0m\u001b[0m\n\u001b[0m\u001b[0;32m     23\u001b[0m         \u001b[0my_coord\u001b[0m \u001b[1;33m=\u001b[0m \u001b[0mdf\u001b[0m\u001b[1;33m.\u001b[0m\u001b[0mloc\u001b[0m\u001b[1;33m[\u001b[0m\u001b[1;33m:\u001b[0m\u001b[1;33m,\u001b[0m \u001b[1;34m'Y-coord'\u001b[0m\u001b[1;33m]\u001b[0m\u001b[1;33m\u001b[0m\u001b[1;33m\u001b[0m\u001b[0m\n\u001b[0;32m     24\u001b[0m \u001b[1;33m\u001b[0m\u001b[0m\n",
      "\u001b[1;31mNameError\u001b[0m: name 'df' is not defined"
     ]
    }
   ],
   "source": [
    "file_name = input(\"Enter the file name: \")\n",
    "G = nx.Graph()\n",
    "class general:\n",
    "    def handle_input(self, file_name):    # has to be a parsor \n",
    "        print(\"IMPORTANT: your file has to be in the same folder as this program\")\n",
    "        print(\"The file must have column 'compound' for the nodes\")\n",
    "        \n",
    "        file_name_1 = file_name.find(\".csv\")\n",
    "        file_name_2 = file_name.find(\".xlsx\")\n",
    "        if file_name_1 > 0:\n",
    "            df = pd.read_csv(file_name)\n",
    "    \n",
    "        elif file_name_2 > 0:\n",
    "            df = pd.read_excel(file_name)\n",
    "        \n",
    "        node_list = df.loc[:,'compound']\n",
    "        weight_list = df.loc[:,'rt']\n",
    "        return node_list, weight_list, file_name\n",
    "    \n",
    "    \n",
    "    def coordinates(self):\n",
    "        x_coord = df.loc[:, 'X-coord']\n",
    "        y_coord = df.loc[:, 'Y-coord']\n",
    "        \n",
    "        position = nx.spring_layout(G)\n",
    "        \n",
    "        for a, compound in enumerate(node_list):\n",
    "            position[node_list[a]] = np.array([x_coord[a], y_coord[a]])   \n",
    "    \n",
    "#     def node_plot(self):\n",
    "#         handle_input(node_list)\n",
    "#         G.add_nodes_from(node_list)\n",
    "#         for a, compound in enumerate(node_list):\n",
    "#             reactant = node_list[a]\n",
    "#             if (a != len(node_list)-1):\n",
    "#                 edges = G.add_edge(node_list[a], node_list[a+1], weight = weight_list[a])\n",
    "                \n",
    "#         nx.draw(G, position, with_labels = True)\n",
    "    \n",
    "    \n",
    "    \n",
    "        \n",
    "    \n",
    "    \n",
    "g = general()\n",
    "#g.handle_input(file_name)\n",
    "#g.node_plot()\n",
    "g.coordinates()\n",
    "\n",
    "###### NODE PLOT DOESN'T WORK!!!"
   ]
  },
  {
   "cell_type": "code",
   "execution_count": null,
   "metadata": {},
   "outputs": [],
   "source": [
    "# need a function to take the nodes from handle input and put them in the x and y coordinates given "
   ]
  }
 ],
 "metadata": {
  "kernelspec": {
   "display_name": "Python 3",
   "language": "python",
   "name": "python3"
  },
  "language_info": {
   "codemirror_mode": {
    "name": "ipython",
    "version": 3
   },
   "file_extension": ".py",
   "mimetype": "text/x-python",
   "name": "python",
   "nbconvert_exporter": "python",
   "pygments_lexer": "ipython3",
   "version": "3.7.3"
  }
 },
 "nbformat": 4,
 "nbformat_minor": 2
}
