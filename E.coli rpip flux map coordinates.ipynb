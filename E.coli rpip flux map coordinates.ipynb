{
 "cells": [
  {
   "cell_type": "code",
   "execution_count": 1,
   "metadata": {},
   "outputs": [
    {
     "name": "stdout",
     "output_type": "stream",
     "text": [
      "Populating the interactive namespace from numpy and matplotlib\n"
     ]
    }
   ],
   "source": [
    "import networkx as nx\n",
    "import plotly.plotly as py\n",
    "import pandas as pd\n",
    "\n",
    "%pylab inline \n",
    "%matplotlib inline"
   ]
  },
  {
   "cell_type": "code",
   "execution_count": 39,
   "metadata": {
    "scrolled": true
   },
   "outputs": [
    {
     "name": "stdout",
     "output_type": "stream",
     "text": [
      "IMPORTANT: your file has to be in the same folder as this program\n",
      "the file must have column 'compound' as the nodes\n",
      "Enter the file name: E.coli rpip flux map coordinates.csv\n"
     ]
    },
    {
     "data": {
      "text/plain": [
       "(0                                    glucose-6-phosphate\n",
       " 1                                 D-Fructose 6-phosphate\n",
       " 2                                                   EXCH\n",
       " 3                              fructose-1-6-bisphosphate\n",
       " 4                           D-glyceraldehdye-3-phosphate\n",
       " 5                               1_3-diphopshateglycerate\n",
       " 6                                  3-Phospho-D-glycerate\n",
       " 7                                    Phosphoenolpyruvate\n",
       " 8                                               Pyruvate\n",
       " 9                                                lactate\n",
       " 10                                             L-Alanine\n",
       " 11                                             sarcosine\n",
       " 12                                                  exch\n",
       " 13                                        2-OXOBUTANOATE\n",
       " 14                                          Acetoacetate\n",
       " 15                                                (exch)\n",
       " 16                                      4-Aminobutanoate\n",
       " 17                                       dimethylglycine\n",
       " 18                            2-AMINO-2-METHYLPROPANOATE\n",
       " 19                                   MONO-ETHYL MALONATE\n",
       " 20                                              MALONATE\n",
       " 21                                                  exch\n",
       " 22                                              L-Serine\n",
       " 23                                                  exch\n",
       " 24                                            CREATININE\n",
       " 25                                             MALEAMATE\n",
       " 26                                           MALEIC ACID\n",
       " 27                                              Fumarate\n",
       " 28                                                  exch\n",
       " 29                           3-Methyl-2-oxobutanoic acid\n",
       "                              ...                        \n",
       " 143                                                 exch\n",
       " 144                                      OPHTHALMIC ACID\n",
       " 145                                          GLUTATHIONE\n",
       " 146                                                  CMP\n",
       " 147            aminoimidazole carboxamide ribonucleotide\n",
       " 148    1-(5--Phosphoribosyl)-5-amino-4-imidazolecarbo...\n",
       " 149                                                  AMP\n",
       " 150                                                  IMP\n",
       " 151                                  S-HEXYL-GLUTATHIONE\n",
       " 152                                         DEOXYCHOLATE\n",
       " 153                                25-HYDROXYCHOLESTEROL\n",
       " 154                                                  CDP\n",
       " 155                                                  UDP\n",
       " 156                                                  ADP\n",
       " 157                                               folate\n",
       " 158                                                 dCTP\n",
       " 159                                                 dTTP\n",
       " 160                                                  CTP\n",
       " 161                                                  UTP\n",
       " 162                                                  ATP\n",
       " 163                                                  GTP\n",
       " 164                                          UDP-glucose\n",
       " 165                                      UDP-glucuronate\n",
       " 166                           UDP-N-acetyl-D-glucosamine\n",
       " 167                                Glutathione disulfide\n",
       " 168                                  cholesteryl sulfate\n",
       " 169                           Sedoheptoluse bisphosphate\n",
       " 170                                 L-arginino-succinate\n",
       " 171                                              lipoate\n",
       " 172                                         Acetyllysine\n",
       " Name: compound, Length: 173, dtype: object, 0              2.946789\n",
       " 1              2.946789\n",
       " 2                   NaN\n",
       " 3              4.587498\n",
       " 4              4.927788\n",
       " 5                0.6701\n",
       " 6              4.231943\n",
       " 7              4.036144\n",
       " 8             0.2210394\n",
       " 9              1.041465\n",
       " 10            0.2277985\n",
       " 11             0.227799\n",
       " 12     (S)-Lactate (e) \n",
       " 13             0.215914\n",
       " 14            0.2011338\n",
       " 15                  NaN\n",
       " 16             0.626575\n",
       " 17             0.626575\n",
       " 18            0.7190168\n",
       " 19             3.636297\n",
       " 20             3.726692\n",
       " 21                  NaN\n",
       " 22             0.295536\n",
       " 23                  NaN\n",
       " 24            0.3071882\n",
       " 25            0.2660357\n",
       " 26             3.541351\n",
       " 27             3.716432\n",
       " 28                  NaN\n",
       " 29             3.615456\n",
       "              ...       \n",
       " 143                 NaN\n",
       " 144            1.585063\n",
       " 145            1.494954\n",
       " 146            3.508123\n",
       " 147            0.203164\n",
       " 148            0.203164\n",
       " 149            3.830544\n",
       " 150             3.65837\n",
       " 151           0.3656765\n",
       " 152            6.741617\n",
       " 153            6.937789\n",
       " 154             4.14638\n",
       " 155            4.194383\n",
       " 156             4.21908\n",
       " 157            3.999053\n",
       " 158            4.374694\n",
       " 159            4.423182\n",
       " 160            4.602855\n",
       " 161            4.667876\n",
       " 162            4.767426\n",
       " 163            4.578515\n",
       " 164            3.721866\n",
       " 165            4.300972\n",
       " 166            3.729807\n",
       " 167            3.656929\n",
       " 168             10.2947\n",
       " 169           0.4898699\n",
       " 170           0.6862724\n",
       " 171            4.438584\n",
       " 172           0.3174354\n",
       " Name: rt, Length: 173, dtype: object, 'E.coli rpip flux map coordinates.csv')"
      ]
     },
     "execution_count": 39,
     "metadata": {},
     "output_type": "execute_result"
    }
   ],
   "source": [
    "def handle_input():\n",
    "    print(\"IMPORTANT: your file has to be in the same folder as this program\")\n",
    "    print(\"The file must have column 'compound' for the nodes\")\n",
    "    file_name = input(\"Enter the file name: \")\n",
    "    file_name_1 = file_name.find(\".csv\")\n",
    "    file_name_2 = file_name.find(\".xlsx\")\n",
    "    if file_name_1 > 0:\n",
    "        df = pd.read_csv(file_name)\n",
    "    \n",
    "    elif file_name_2 > 0:\n",
    "        df = pd.read_excel(file_name)\n",
    "        \n",
    "    node_list = df.loc[:,'compound']\n",
    "    weight_list = df.loc[:,'rt']\n",
    "       \n",
    "    return node_list, weight_list, file_name\n",
    "\n",
    "handle_input()"
   ]
  },
  {
   "cell_type": "code",
   "execution_count": null,
   "metadata": {},
   "outputs": [],
   "source": [
    "# glycolysis: can put it in order which would be easier \n",
    "## we can start with that as a for loop \n",
    "# need another for loop for the x and y coordinates \n"
   ]
  }
 ],
 "metadata": {
  "kernelspec": {
   "display_name": "Python 3",
   "language": "python",
   "name": "python3"
  },
  "language_info": {
   "codemirror_mode": {
    "name": "ipython",
    "version": 3
   },
   "file_extension": ".py",
   "mimetype": "text/x-python",
   "name": "python",
   "nbconvert_exporter": "python",
   "pygments_lexer": "ipython3",
   "version": "3.7.3"
  }
 },
 "nbformat": 4,
 "nbformat_minor": 2
}
