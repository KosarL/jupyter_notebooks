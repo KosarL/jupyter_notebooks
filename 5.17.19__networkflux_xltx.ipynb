{
 "cells": [
  {
   "cell_type": "code",
   "execution_count": 1,
   "metadata": {},
   "outputs": [
    {
     "name": "stdout",
     "output_type": "stream",
     "text": [
      "Populating the interactive namespace from numpy and matplotlib\n"
     ]
    }
   ],
   "source": [
    "import networkx as nx\n",
    "import pandas as pd \n",
    "import plotly.plotly as py\n",
    "import plotly.graph_objs as go\n",
    "import matplotlib.pyplot as plt\n",
    "\n",
    "%pylab inline\n",
    "%matplotlib inline"
   ]
  },
  {
   "cell_type": "code",
   "execution_count": 2,
   "metadata": {},
   "outputs": [
    {
     "data": {
      "text/html": [
       "<div>\n",
       "<style scoped>\n",
       "    .dataframe tbody tr th:only-of-type {\n",
       "        vertical-align: middle;\n",
       "    }\n",
       "\n",
       "    .dataframe tbody tr th {\n",
       "        vertical-align: top;\n",
       "    }\n",
       "\n",
       "    .dataframe thead th {\n",
       "        text-align: right;\n",
       "    }\n",
       "</style>\n",
       "<table border=\"1\" class=\"dataframe\">\n",
       "  <thead>\n",
       "    <tr style=\"text-align: right;\">\n",
       "      <th></th>\n",
       "      <th>reactant</th>\n",
       "      <th>enzyme</th>\n",
       "      <th>product</th>\n",
       "      <th>flux</th>\n",
       "    </tr>\n",
       "  </thead>\n",
       "  <tbody>\n",
       "    <tr>\n",
       "      <th>0</th>\n",
       "      <td>glucose</td>\n",
       "      <td>hexokinase</td>\n",
       "      <td>glucose-6-phosphate</td>\n",
       "      <td>0.4</td>\n",
       "    </tr>\n",
       "    <tr>\n",
       "      <th>1</th>\n",
       "      <td>glucose-6-phosphate</td>\n",
       "      <td>phosphoglucose isomerase</td>\n",
       "      <td>fructose-6-phosphate</td>\n",
       "      <td>6.0</td>\n",
       "    </tr>\n",
       "    <tr>\n",
       "      <th>2</th>\n",
       "      <td>fructose-6-phosphate</td>\n",
       "      <td>phosphofructo-kinase</td>\n",
       "      <td>fructose-1,6-bisphosphate</td>\n",
       "      <td>1.2</td>\n",
       "    </tr>\n",
       "    <tr>\n",
       "      <th>3</th>\n",
       "      <td>fructose-1,6-bisphosphate</td>\n",
       "      <td>fructose bisphosphate adolase</td>\n",
       "      <td>glyceraldehyde-3-phosphate</td>\n",
       "      <td>50.0</td>\n",
       "    </tr>\n",
       "  </tbody>\n",
       "</table>\n",
       "</div>"
      ],
      "text/plain": [
       "                    reactant                         enzyme  \\\n",
       "0                    glucose                     hexokinase   \n",
       "1        glucose-6-phosphate       phosphoglucose isomerase   \n",
       "2       fructose-6-phosphate           phosphofructo-kinase   \n",
       "3  fructose-1,6-bisphosphate  fructose bisphosphate adolase   \n",
       "\n",
       "                      product  flux  \n",
       "0         glucose-6-phosphate   0.4  \n",
       "1        fructose-6-phosphate   6.0  \n",
       "2   fructose-1,6-bisphosphate   1.2  \n",
       "3  glyceraldehyde-3-phosphate  50.0  "
      ]
     },
     "execution_count": 2,
     "metadata": {},
     "output_type": "execute_result"
    }
   ],
   "source": [
    "df = pd.read_excel(\"glycolysis.xlsx\")\n",
    "df.head(5)"
   ]
  },
  {
   "cell_type": "code",
   "execution_count": 3,
   "metadata": {},
   "outputs": [],
   "source": [
    "G = nx.Graph()"
   ]
  },
  {
   "cell_type": "code",
   "execution_count": 25,
   "metadata": {},
   "outputs": [
    {
     "name": "stdout",
     "output_type": "stream",
     "text": [
      "{('glucose', 'glucose-6-phosphate'): 0.4, ('glucose-6-phosphate', 'fructose-6-phosphate'): 6.0}\n"
     ]
    },
    {
     "data": {
      "image/png": "[encoded data removed]",
      "text/plain": [
       "<Figure size 432x288 with 1 Axes>"
      ]
     },
     "metadata": {},
     "output_type": "display_data"
    }
   ],
   "source": [
    "# have to add the enzymes as attributes and not weights \n",
    "# THE WEIGHTS CAN BE THE FLUXES SO WE WILL KNOW THE RELATIONSHIP BETWEEN THE NODES!!!\n",
    "# add directed edges in shell composition \n",
    "# use for loops for the edges \n",
    "\n",
    "G = nx.DiGraph()\n",
    "\n",
    "node_list = df[\"reactant\"]\n",
    "weight_list = df[\"flux\"]\n",
    "\n",
    "# do for loop for the edge_list\n",
    "# edge_list = [(\"glucose\", \"glucose-6-phosphate\", weight_list[0]), (\"glucose-6-phosphate\", \"fructose-6-phosphate\", weight_list[1]), (\"fructose-6-phosphate\", \"fructose-1,6-bisphosphate\", weight_list[2])]\n",
    "\n",
    "G.add_nodes_from(node_list)\n",
    "# G.add_weighted_edges_from(edge_list)\n",
    "\n",
    "\n",
    "\n",
    "\n",
    "# G.add_edge(\"glucose\", \"glucose-6-phosphate\", weight = weight_list[0])\n",
    "a = 0\n",
    "for reactant in node_list:\n",
    "    reactant = node_list[a]\n",
    "    G.add_edge(node_list[a], node_list[a+1], weight = weight_list[a])\n",
    "    a =+ 1\n",
    "    \n",
    "\n",
    "\n",
    "position = nx.spring_layout(G)\n",
    "nx.draw(G, position, with_labels = True)              \n",
    "               \n",
    "print(nx.get_edge_attributes(G, \"weight\"))\n",
    "\n",
    "\n",
    "\n",
    "# enzyme_list = df[\"enzyme\"]\n",
    "# flux_list = df[\"flux\"]\n",
    "# attribute_1 = \"enzyme_list\"\n",
    "# attribute_2 = \"flux_list\"\n",
    "\n",
    "# position = nx.spring_layout(G)\n",
    "# nx.draw(G, position, with_labels = True)\n",
    "# lables = nx.get_edge_attributes(G, \"attribute_1\")\n",
    "# lables2 = nx.get_edge_attributes(G, \"attribute_2\")\n",
    "\n",
    "# new-lables = {}\n",
    "# for key in labels.keys():\n",
    "#     new_lables[key] = \"{} ({})\".format(lables[keys], labels2[keys])\n",
    "# new_labels\n",
    "\n",
    "# nx.draw_networkx_edge_labels(G, position, edge_labels = new_labels)\n",
    "\n"
   ]
  },
  {
   "cell_type": "code",
   "execution_count": 16,
   "metadata": {},
   "outputs": [
    {
     "data": {
      "text/plain": [
       "{(1, 3): Text(0.0, 0.0, 'best friends')}"
      ]
     },
     "execution_count": 16,
     "metadata": {},
     "output_type": "execute_result"
    },
    {
     "data": {
      "image/png": "[encoded data removed]",
      "text/plain": [
       "<Figure size 432x288 with 1 Axes>"
      ]
     },
     "metadata": {},
     "output_type": "display_data"
    }
   ],
   "source": [
    "G2.add_edge(1,3, relationship = \"best friends\")\n",
    "position = nx.spring_layout(G2)\n",
    "nx.draw(G2, position, with_lables = True)\n",
    "labels = nx.get_edge_attributes(G2, \"relationship\")\n",
    "\n",
    "nx.draw_networkx_edge_labels(G2, position, edge_labels = labels, node_labels = node_list)"
   ]
  }
 ],
 "metadata": {
  "kernelspec": {
   "display_name": "Python 3",
   "language": "python",
   "name": "python3"
  },
  "language_info": {
   "codemirror_mode": {
    "name": "ipython",
    "version": 3
   },
   "file_extension": ".py",
   "mimetype": "text/x-python",
   "name": "python",
   "nbconvert_exporter": "python",
   "pygments_lexer": "ipython3",
   "version": "3.7.3"
  }
 },
 "nbformat": 4,
 "nbformat_minor": 2
}
